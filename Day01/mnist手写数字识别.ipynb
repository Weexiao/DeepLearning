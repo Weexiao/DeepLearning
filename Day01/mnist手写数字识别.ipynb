{
 "cells": [
  {
   "cell_type": "markdown",
   "source": [
    "# 前期工作"
   ],
   "metadata": {
    "collapsed": false,
    "pycharm": {
     "name": "#%% md\n"
    }
   }
  },
  {
   "cell_type": "code",
   "execution_count": 1,
   "outputs": [],
   "source": [
    "import tensorflow as tf\n",
    "from tensorflow.keras import datasets, layers, models\n",
    "import matplotlib.pyplot as plt"
   ],
   "metadata": {
    "collapsed": false,
    "pycharm": {
     "name": "#%%\n"
    }
   }
  },
  {
   "cell_type": "code",
   "execution_count": 2,
   "outputs": [],
   "source": [
    "# 导入数据\n",
    "(train_images, train_labels), (test_images, test_labels) = datasets.mnist.load_data()"
   ],
   "metadata": {
    "collapsed": false,
    "pycharm": {
     "name": "#%%\n"
    }
   }
  },
  {
   "cell_type": "code",
   "execution_count": 3,
   "outputs": [
    {
     "data": {
      "text/plain": "((60000, 28, 28), (10000, 28, 28), (60000,), (10000,))"
     },
     "execution_count": 3,
     "metadata": {},
     "output_type": "execute_result"
    }
   ],
   "source": [
    "# 归一化\n",
    "\n",
    "# 将像素的值标准化至0到1的区间内\n",
    "train_images, test_images = train_images / 255.0, test_images / 255.0\n",
    "\n",
    "train_images.shape, test_images.shape, train_labels.shape, test_labels.shape"
   ],
   "metadata": {
    "collapsed": false,
    "pycharm": {
     "name": "#%%\n"
    }
   }
  },
  {
   "cell_type": "code",
   "execution_count": 4,
   "outputs": [
    {
     "data": {
      "text/plain": "<Figure size 2016x2016 with 20 Axes>",
      "image/png": "[encoded data removed]"
     },
     "metadata": {},
     "output_type": "display_data"
    }
   ],
   "source": [
    "# 可视化图片\n",
    "plt.figure(figsize=(20, 10))\n",
    "for i in range(20):\n",
    "    plt.subplot(5, 10, i+1)\n",
    "    plt.xticks([])\n",
    "    plt.yticks([])\n",
    "    plt.grid(False)\n",
    "    plt.imshow(train_images[i], cmap=plt.cm.binary)\n",
    "    plt.xlabel(train_labels[i])\n",
    "plt.show()"
   ],
   "metadata": {
    "collapsed": false,
    "pycharm": {
     "name": "#%%\n"
    }
   }
  },
  {
   "cell_type": "code",
   "source": [
    "# 调整数据到我们需要的格式\n",
    "train_images = train_images.reshape((60000, 28, 28, 1))\n",
    "test_images = test_images.reshape((10000, 28, 28, 1))\n",
    "\n",
    "train_images, test_images = train_images / 255.0, test_images / 255.0\n",
    "\n",
    "train_images.shape, test_images.shape, train_labels.shape, test_labels.shape"
   ],
   "metadata": {
    "collapsed": false,
    "pycharm": {
     "name": "#%%\n"
    }
   },
   "execution_count": null,
   "outputs": []
  },
  {
   "cell_type": "markdown",
   "source": [
    "# 构建CNN网络模型"
   ],
   "metadata": {
    "collapsed": false,
    "pycharm": {
     "name": "#%% md\n"
    }
   }
  },
  {
   "cell_type": "code",
   "execution_count": 6,
   "outputs": [
    {
     "name": "stdout",
     "output_type": "stream",
     "text": [
      "Model: \"sequential\"\n",
      "_________________________________________________________________\n",
      "Layer (type)                 Output Shape              Param #   \n",
      "=================================================================\n",
      "conv2d (Conv2D)              (None, 26, 26, 32)        320       \n",
      "_________________________________________________________________\n",
      "max_pooling2d (MaxPooling2D) (None, 13, 13, 32)        0         \n",
      "_________________________________________________________________\n",
      "conv2d_1 (Conv2D)            (None, 11, 11, 64)        18496     \n",
      "_________________________________________________________________\n",
      "max_pooling2d_1 (MaxPooling2 (None, 5, 5, 64)          0         \n",
      "_________________________________________________________________\n",
      "flatten (Flatten)            (None, 1600)              0         \n",
      "_________________________________________________________________\n",
      "dense (Dense)                (None, 64)                102464    \n",
      "_________________________________________________________________\n",
      "dense_1 (Dense)              (None, 10)                650       \n",
      "=================================================================\n",
      "Total params: 121,930\n",
      "Trainable params: 121,930\n",
      "Non-trainable params: 0\n",
      "_________________________________________________________________\n"
     ]
    }
   ],
   "source": [
    "model = models.Sequential([\n",
    "    layers.Conv2D(32, (3, 3), activation='relu', input_shape=(28, 28, 1)),  # 卷积层1， 卷积核3*3\n",
    "    layers.MaxPooling2D((2, 2)),                                            # 池化层1， 2*2 采样\n",
    "    layers.Conv2D(64, (3, 3), activation='relu'),                           # 卷积层2， 卷积核3*3\n",
    "    layers.MaxPooling2D((2, 2)),                                            # 池化层2， 2*2采样\n",
    "\n",
    "    layers.Flatten(),                                                       # Flatten层，连接卷积层与全连接层\n",
    "    layers.Dense(64, activation='relu'),                                    # 全连接层，特征进一步提取\n",
    "    layers.Dense(10)                                                        # 输出层，输出预期结果\n",
    "])\n",
    "# 打印网络结构\n",
    "model.summary()"
   ],
   "metadata": {
    "collapsed": false,
    "pycharm": {
     "name": "#%%\n"
    }
   }
  },
  {
   "cell_type": "markdown",
   "source": [
    "# 编译模型"
   ],
   "metadata": {
    "collapsed": false,
    "pycharm": {
     "name": "#%% md\n"
    }
   }
  },
  {
   "cell_type": "code",
   "execution_count": 8,
   "outputs": [],
   "source": [
    "\"\"\"\n",
    "这里设置优化器、损失函数以及metrics\n",
    "这三者具体介绍可参考我的博客：\n",
    "https://blog.csdn.net/qq_38251616/category_10258234.html\n",
    "\"\"\"\n",
    "model.compile(optimizer='adam',\n",
    "              loss=tf.keras.losses.SparseCategoricalCrossentropy(from_logits=True),\n",
    "              metrics=['accuracy'])"
   ],
   "metadata": {
    "collapsed": false,
    "pycharm": {
     "name": "#%%\n"
    }
   }
  },
  {
   "cell_type": "markdown",
   "source": [
    "# 训练模型"
   ],
   "metadata": {
    "collapsed": false,
    "pycharm": {
     "name": "#%% md\n"
    }
   }
  },
  {
   "cell_type": "code",
   "execution_count": 9,
   "outputs": [
    {
     "name": "stdout",
     "output_type": "stream",
     "text": [
      "Epoch 1/10\n",
      "1875/1875 [==============================] - 37s 20ms/step - loss: 0.8355 - accuracy: 0.7240 - val_loss: 0.3196 - val_accuracy: 0.9070\n",
      "Epoch 2/10\n",
      "1875/1875 [==============================] - 34s 18ms/step - loss: 0.2682 - accuracy: 0.9186 - val_loss: 0.1956 - val_accuracy: 0.9416\n",
      "Epoch 3/10\n",
      "1875/1875 [==============================] - 37s 20ms/step - loss: 0.1810 - accuracy: 0.9458 - val_loss: 0.1363 - val_accuracy: 0.9589\n",
      "Epoch 4/10\n",
      "1875/1875 [==============================] - 44s 24ms/step - loss: 0.1351 - accuracy: 0.9592 - val_loss: 0.1060 - val_accuracy: 0.9657\n",
      "Epoch 5/10\n",
      "1875/1875 [==============================] - 47s 25ms/step - loss: 0.1123 - accuracy: 0.9655 - val_loss: 0.0970 - val_accuracy: 0.9695\n",
      "Epoch 6/10\n",
      "1875/1875 [==============================] - 50s 27ms/step - loss: 0.0991 - accuracy: 0.9698 - val_loss: 0.0852 - val_accuracy: 0.9737\n",
      "Epoch 7/10\n",
      "1875/1875 [==============================] - 48s 26ms/step - loss: 0.0902 - accuracy: 0.9729 - val_loss: 0.0758 - val_accuracy: 0.9755\n",
      "Epoch 8/10\n",
      "1875/1875 [==============================] - 43s 23ms/step - loss: 0.0831 - accuracy: 0.9753 - val_loss: 0.0834 - val_accuracy: 0.9753\n",
      "Epoch 9/10\n",
      "1875/1875 [==============================] - 40s 21ms/step - loss: 0.0773 - accuracy: 0.9766 - val_loss: 0.0655 - val_accuracy: 0.9781\n",
      "Epoch 10/10\n",
      "1875/1875 [==============================] - 43s 23ms/step - loss: 0.0728 - accuracy: 0.9771 - val_loss: 0.0729 - val_accuracy: 0.9779\n"
     ]
    }
   ],
   "source": [
    "\"\"\"\n",
    "这里设置输入训练数据集（图片及标签）、验证数据集（图片及标签）以及迭代次数epochs\n",
    "关于model.fit()函数的具体介绍可参考我的博客：\n",
    "https://blog.csdn.net/qq_38251616/category_10258234.html\n",
    "\"\"\"\n",
    "history = model.fit(train_images, train_labels, epochs=10,\n",
    "                    validation_data=(test_images, test_labels))"
   ],
   "metadata": {
    "collapsed": false,
    "pycharm": {
     "name": "#%%\n"
    }
   }
  },
  {
   "cell_type": "code",
   "execution_count": 10,
   "outputs": [
    {
     "data": {
      "text/plain": "<matplotlib.image.AxesImage at 0x203c6de1760>"
     },
     "execution_count": 10,
     "metadata": {},
     "output_type": "execute_result"
    },
    {
     "data": {
      "text/plain": "<Figure size 432x288 with 1 Axes>",
      "image/png": "[encoded data removed]"
     },
     "metadata": {
      "needs_background": "light"
     },
     "output_type": "display_data"
    }
   ],
   "source": [
    "plt.imshow(test_images[1])"
   ],
   "metadata": {
    "collapsed": false,
    "pycharm": {
     "name": "#%%\n"
    }
   }
  },
  {
   "cell_type": "code",
   "execution_count": 11,
   "outputs": [
    {
     "data": {
      "text/plain": "array([-2.1010077e-01,  7.4836578e+00,  1.2081768e+01,  9.6930303e-02,\n       -1.8305708e+01, -7.7905645e+00, -6.6521764e+00, -1.7099302e+01,\n       -1.2237906e-02, -1.8911739e+01], dtype=float32)"
     },
     "execution_count": 11,
     "metadata": {},
     "output_type": "execute_result"
    }
   ],
   "source": [
    "pre = model.predict(test_images)\n",
    "pre[1]"
   ],
   "metadata": {
    "collapsed": false,
    "pycharm": {
     "name": "#%%\n"
    }
   }
  }
 ],
 "metadata": {
  "kernelspec": {
   "display_name": "Python 3",
   "language": "python",
   "name": "python3"
  },
  "language_info": {
   "codemirror_mode": {
    "name": "ipython",
    "version": 2
   },
   "file_extension": ".py",
   "mimetype": "text/x-python",
   "name": "python",
   "nbconvert_exporter": "python",
   "pygments_lexer": "ipython2",
   "version": "2.7.6"
  }
 },
 "nbformat": 4,
 "nbformat_minor": 0
}